{
 "cells": [
  {
   "cell_type": "code",
   "execution_count": 1,
   "id": "f07c2b59-da3a-40f7-a572-ec62fdf8bf76",
   "metadata": {},
   "outputs": [],
   "source": [
    "import warnings\n",
    "warnings.filterwarnings('ignore')\n",
    "import numpy as np\n",
    "import pandas as pd\n",
    "import imageio\n",
    "import shutil\n",
    "import os\n",
    "\n",
    "# from Definitions_TSRD\n",
    "from Definitions_TSRD import T, DATA_PATH, MODELS_PATH, TEACHER_TO_STUDENTS"
   ]
  },
  {
   "cell_type": "markdown",
   "id": "39ff31fe-bb9b-45ae-8212-4c7f9752da12",
   "metadata": {},
   "source": [
    "<font size=7><b>CPSC471 Project: Data Preprocessing</b></font>\n",
    "\n",
    "**Ruomu (Felix) Zou**"
   ]
  },
  {
   "cell_type": "markdown",
   "id": "2984a240-be84-4fec-9dc2-23378b881f11",
   "metadata": {},
   "source": [
    "This notebook reads the original dataset in `../Data/OriginalFormat/` and converts it to a pytorch dataloader friendly format in `../Data/PytorchFriendlyFormat`. It also crops the images to only keep the sign."
   ]
  },
  {
   "cell_type": "markdown",
   "id": "dde4f5dc-ab30-4165-849c-2337c1be7244",
   "metadata": {},
   "source": [
    "# Read in All Requisite Info:"
   ]
  },
  {
   "cell_type": "code",
   "execution_count": 2,
   "id": "04aa095c-230e-4278-8d9b-f10464df0359",
   "metadata": {},
   "outputs": [],
   "source": [
    "# load in raw label files\n",
    "labels_train = pd.read_csv(os.path.join(DATA_PATH, \"OriginalFormat\", \"Labels_Train.txt\"), sep=\";\",\n",
    "                           usecols=[0,1,2,3,4,5,6,7],\n",
    "                           names=[\"ImageFile\", \"Width\", \"Height\", \"x1\", \"y1\", \"x2\", \"y2\", \"Category\"])\n",
    "labels_test = pd.read_csv(os.path.join(DATA_PATH, \"OriginalFormat\", \"Labels_Test.txt\"), sep=\";\",\n",
    "                          usecols=[0,1,2,3,4,5,6,7],\n",
    "                          names=[\"ImageFile\", \"Width\", \"Height\", \"x1\", \"y1\", \"x2\", \"y2\", \"Category\"])\n",
    "\n",
    "# load in english label names\n",
    "category_names_english = pd.read_csv(os.path.join(DATA_PATH, \"OriginalFormat\", \"Category_Names_English.txt\"), sep=\",\",\n",
    "                                     names=[\"CategoryNumber\", \"CategoryName_English\"])\n",
    "\n",
    "# merge label names into labels\n",
    "labels_train = labels_train.merge(category_names_english, left_on=\"Category\", right_on=\"CategoryNumber\")\n",
    "labels_test = labels_test.merge(category_names_english, left_on=\"Category\", right_on=\"CategoryNumber\")"
   ]
  },
  {
   "cell_type": "markdown",
   "id": "31d23c6b-d526-4cb7-98b1-344662950e8b",
   "metadata": {},
   "source": [
    "# Reorganize the Data:"
   ]
  },
  {
   "cell_type": "code",
   "execution_count": 3,
   "id": "43c29488-5d48-4e98-a611-26f5a41b6f31",
   "metadata": {},
   "outputs": [],
   "source": [
    "### make the new folder (flush if it already exists) ###\n",
    "new_folder_path = os.path.join(DATA_PATH, \"PytorchFriendlyFormat/\")\n",
    "if os.path.exists(new_folder_path):\n",
    "    shutil.rmtree(new_folder_path)\n",
    "os.makedirs(new_folder_path) # this is now empty folder\n",
    "\n",
    "\n",
    "### reorganize training samples ###\n",
    "\n",
    "# make the Train folder\n",
    "train_path = os.path.join(new_folder_path, \"Train/\")\n",
    "os.makedirs(train_path)\n",
    "\n",
    "# make the category folders\n",
    "for cat_id, cat_name in category_names_english.to_numpy():\n",
    "    os.makedirs(os.path.join(train_path, f\"{cat_name}/\"))\n",
    "\n",
    "# move each images over and crop\n",
    "for img_file, category_name, x1, y1, x2, y2 in labels_train[[\"ImageFile\", \"CategoryName_English\", \"x1\", \"y1\", \"x2\", \"y2\"]].to_numpy():\n",
    "    orig_img_path = os.path.join(DATA_PATH, \"OriginalFormat/Train/\", img_file)\n",
    "    new_img_path = os.path.join(train_path, f\"{category_name}/\", img_file)\n",
    "    img = imageio.imread(orig_img_path)\n",
    "    img = img[x1:x2,y1:y2,:]\n",
    "    imageio.imwrite(new_img_path, img)\n",
    "    \n",
    "\n",
    "# ### reorganize testing samples ###\n",
    "\n",
    "# make the Test folder\n",
    "test_path = os.path.join(new_folder_path, \"Test/\")\n",
    "os.makedirs(test_path)\n",
    "\n",
    "# make the category folders\n",
    "for cat_id, cat_name in category_names_english.to_numpy():\n",
    "    os.makedirs(os.path.join(test_path, f\"{cat_name}/\"))\n",
    "\n",
    "# move each images over and crop\n",
    "for img_file, category_name, x1, y1, x2, y2 in labels_test[[\"ImageFile\", \"CategoryName_English\", \"x1\", \"y1\", \"x2\", \"y2\"]].to_numpy():\n",
    "    orig_img_path = os.path.join(DATA_PATH, \"OriginalFormat/Test/\", img_file)\n",
    "    new_img_path = os.path.join(test_path, f\"{category_name}/\", img_file)\n",
    "    img = imageio.imread(orig_img_path)\n",
    "    img = img[x1:x2,y1:y2,:]\n",
    "    imageio.imwrite(new_img_path, img)"
   ]
  }
 ],
 "metadata": {
  "kernelspec": {
   "display_name": "Python 3 (ipykernel)",
   "language": "python",
   "name": "python3"
  },
  "language_info": {
   "codemirror_mode": {
    "name": "ipython",
    "version": 3
   },
   "file_extension": ".py",
   "mimetype": "text/x-python",
   "name": "python",
   "nbconvert_exporter": "python",
   "pygments_lexer": "ipython3",
   "version": "3.11.6"
  }
 },
 "nbformat": 4,
 "nbformat_minor": 5
}
